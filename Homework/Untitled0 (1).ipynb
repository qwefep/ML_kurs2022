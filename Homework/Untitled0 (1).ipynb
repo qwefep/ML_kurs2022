{
  "nbformat": 4,
  "nbformat_minor": 0,
  "metadata": {
    "colab": {
      "provenance": []
    },
    "kernelspec": {
      "name": "python3",
      "display_name": "Python 3"
    },
    "language_info": {
      "name": "python"
    }
  },
  "cells": [
    {
      "cell_type": "code",
      "execution_count": null,
      "metadata": {
        "id": "hB1XCVaV0lNK"
      },
      "outputs": [],
      "source": [
        "import pandas as pd\n",
        "from sklearn.preprocessing import OneHotEncoder\n",
        "from sklearn.linear_model import LinearRegression\n",
        "from sklearn.ensemble import RandomForestClassifier\n",
        "from sklearn.model_selection import train_test_split\n",
        "\n"
      ]
    },
    {
      "cell_type": "code",
      "source": [
        "####ПОДГОТОВКА ДАТАФРЕЙМА\n",
        "\n",
        "df = pd.read_csv('train_dataset_train.csv')\n",
        "y1 = df['time_to_under']\n",
        "y2 = df['label']\n",
        "columns_to_drop = [\n",
        "    ############## НЕНУЖНЫЕ\n",
        "    'id',\n",
        "    'ticket_id',\n",
        "\n",
        "    'station_nm',\n",
        "    'entrance_nm',\n",
        "    'line_nm',\n",
        "\n",
        "\n",
        "\n",
        "\n",
        "]\n",
        "df.drop(columns_to_drop, axis=1, inplace=True)"
      ],
      "metadata": {
        "id": "d8G2Ka8Y0mFl"
      },
      "execution_count": null,
      "outputs": []
    },
    {
      "cell_type": "code",
      "source": [
        "#список колонок датасета\n",
        "print(df.columns)\n",
        "#описательные статистики для всего датасета\n",
        "print(df.describe())"
      ],
      "metadata": {
        "id": "1glwoNIJ0mQD"
      },
      "execution_count": null,
      "outputs": []
    },
    {
      "cell_type": "code",
      "source": [
        "#Распечатаем в цикле по каждой колонке название колонки, количество уникальных значений, а затем список возможных значений вместе\n",
        "# с их количеством появления в датасете.\n",
        "cols = df.columns\n",
        "for col in cols:\n",
        "    print(f\"Характеристика: {col}\")\n",
        "    print(f\"Количество уникальных значений: {df[col].nunique()}\")\n",
        "    print(f\"Список значений: {df[col]}\")\n",
        "    print(df[col])\n",
        "    print('///////////////////////////////////////////////////')"
      ],
      "metadata": {
        "id": "mOed4NtT-avv"
      },
      "execution_count": null,
      "outputs": []
    },
    {
      "cell_type": "code",
      "source": [
        "###########Data Cleaning\n",
        "#Найдем процент непустых столбцов\n",
        "\n",
        "values = ((df.isna().sum() / len(df)) * 100).sort_values()\n",
        "count = 0\n",
        "\n",
        "for i in values:\n",
        "    if i == 0:\n",
        "        count += 1\n",
        "print(f'Количество полностью заполненных объектов - {count}')\n",
        "print(f'Их процент из всей выборки - {int(count / len (values) * 100)}%')\n",
        "\n",
        "#Пропусков нет"
      ],
      "metadata": {
        "id": "hX8NaP0F-d03"
      },
      "execution_count": null,
      "outputs": []
    },
    {
      "cell_type": "code",
      "source": [
        "######Преобразование переменных\n",
        "\n",
        "\n",
        "\n",
        "###pass_dttm\n",
        "\n",
        "#ОСТАВЛЯЕМ ТОЛЬКО ДНИ НЕДЕЛИ И ЧАСЫ\n",
        "\n",
        "df.pass_dttm = pd.to_datetime(df.pass_dttm)\n",
        "df['hour'] = df.pass_dttm.apply(lambda x: x.hour)\n",
        "df['day_of_week'] = df.pass_dttm.dt.weekday\n",
        "df = df.drop(['pass_dttm'], axis=1)"
      ],
      "metadata": {
        "id": "4iPjadJr-gHl"
      },
      "execution_count": null,
      "outputs": []
    },
    {
      "cell_type": "code",
      "source": [
        "###Категориальные переменные\n",
        "\n",
        "columns_to_drop1 = [\n",
        "    'ticket_type_nm',\n",
        "    'entrance_id',\n",
        "    'station_id',\n",
        "    'line_id'\n",
        "\n",
        "]\n",
        "\n",
        "ohe = OneHotEncoder(sparse=False)\n",
        "ohe.fit(df[['ticket_type_nm','entrance_id','station_id','line_id']])\n",
        "ohe_model = ohe.transform(df[['ticket_type_nm','entrance_id','station_id','line_id']])\n",
        "df[ohe.get_feature_names_out()] = ohe_model\n",
        "df.drop(columns_to_drop1, axis=1, inplace=True)"
      ],
      "metadata": {
        "id": "YWZQOfZd-if1"
      },
      "execution_count": null,
      "outputs": []
    },
    {
      "cell_type": "code",
      "source": [
        "####Предсказания\n",
        "\n",
        "\n",
        "X = df.drop(['time_to_under','label'], axis=1)"
      ],
      "metadata": {
        "id": "BuYPOa3NVkX9"
      },
      "execution_count": null,
      "outputs": []
    },
    {
      "cell_type": "code",
      "source": [
        "##Регрессия\n",
        "\n",
        "X_train, X_test, y1_train, y1_test = train_test_split(X, y1,\n",
        "                                                    test_size=0.2,\n",
        "                                                    random_state=True)\n",
        "reg = LinearRegression().fit(X_train, y1_train)\n",
        "y1_pred = reg.predict(X_test)"
      ],
      "metadata": {
        "id": "R0PA_XMgVlwu"
      },
      "execution_count": null,
      "outputs": []
    },
    {
      "cell_type": "code",
      "source": [
        "##Классификация\n",
        "X_rf_train, X_rf_test, y2_train, y2_test = train_test_split(X, y2,\n",
        "                                                    test_size=0.2,\n",
        "                                                    random_state=True)\n",
        "\n",
        "# Создаём модель леса из 10 деревьев\n",
        "mrf = RandomForestClassifier(n_estimators=10)\n",
        "\n",
        "# Обучаем на тренировочных данных\n",
        "mrf.fit(X_rf_train, y2_train)\n",
        "# Предсказания\n",
        "y2_pred = mrf.predict(X_rf_test)"
      ],
      "metadata": {
        "id": "ojp2gfKGVlzA"
      },
      "execution_count": null,
      "outputs": []
    },
    {
      "cell_type": "code",
      "source": [
        "##Метрика\n",
        "\n",
        "from sklearn.metrics import r2_score\n",
        "from sklearn.metrics import recall_score\n",
        "\n",
        "print(0.5 * (r2_score(y1_test, y1_pred) + recall_score(y2_test, y2_pred, average='weighted')))"
      ],
      "metadata": {
        "colab": {
          "base_uri": "https://localhost:8080/",
          "height": 200
        },
        "id": "onH2eANmVmAk",
        "outputId": "f2750fbd-c9a2-4bde-dade-55edae5bbc76"
      },
      "execution_count": 1,
      "outputs": [
        {
          "output_type": "error",
          "ename": "NameError",
          "evalue": "ignored",
          "traceback": [
            "\u001b[0;31m---------------------------------------------------------------------------\u001b[0m",
            "\u001b[0;31mNameError\u001b[0m                                 Traceback (most recent call last)",
            "\u001b[0;32m<ipython-input-1-e72deaf4ba8a>\u001b[0m in \u001b[0;36m<module>\u001b[0;34m\u001b[0m\n\u001b[1;32m      4\u001b[0m \u001b[0;32mfrom\u001b[0m \u001b[0msklearn\u001b[0m\u001b[0;34m.\u001b[0m\u001b[0mmetrics\u001b[0m \u001b[0;32mimport\u001b[0m \u001b[0mrecall_score\u001b[0m\u001b[0;34m\u001b[0m\u001b[0;34m\u001b[0m\u001b[0m\n\u001b[1;32m      5\u001b[0m \u001b[0;34m\u001b[0m\u001b[0m\n\u001b[0;32m----> 6\u001b[0;31m \u001b[0mprint\u001b[0m\u001b[0;34m(\u001b[0m\u001b[0;36m0.5\u001b[0m \u001b[0;34m*\u001b[0m \u001b[0;34m(\u001b[0m\u001b[0mr2_score\u001b[0m\u001b[0;34m(\u001b[0m\u001b[0my1_test\u001b[0m\u001b[0;34m,\u001b[0m \u001b[0my1_pred\u001b[0m\u001b[0;34m)\u001b[0m \u001b[0;34m+\u001b[0m \u001b[0mrecall_score\u001b[0m\u001b[0;34m(\u001b[0m\u001b[0my2_test\u001b[0m\u001b[0;34m,\u001b[0m \u001b[0my2_pred\u001b[0m\u001b[0;34m,\u001b[0m \u001b[0maverage\u001b[0m\u001b[0;34m=\u001b[0m\u001b[0;34m'weighted'\u001b[0m\u001b[0;34m)\u001b[0m\u001b[0;34m)\u001b[0m\u001b[0;34m)\u001b[0m\u001b[0;34m\u001b[0m\u001b[0;34m\u001b[0m\u001b[0m\n\u001b[0m",
            "\u001b[0;31mNameError\u001b[0m: name 'y1_test' is not defined"
          ]
        }
      ]
    }
  ]
}

#0.2817511290776417
